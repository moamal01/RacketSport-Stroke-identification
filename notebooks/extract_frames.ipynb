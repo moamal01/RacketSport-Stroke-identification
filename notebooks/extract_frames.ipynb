{
 "cells": [
  {
   "cell_type": "code",
   "execution_count": 4,
   "metadata": {},
   "outputs": [],
   "source": [
    "import json"
   ]
  },
  {
   "cell_type": "code",
   "execution_count": 5,
   "metadata": {},
   "outputs": [],
   "source": [
    "with open(\"../events_markup.json\", \"r\") as file:\n",
    "    data = json.load(file)"
   ]
  },
  {
   "cell_type": "code",
   "execution_count": 6,
   "metadata": {},
   "outputs": [],
   "source": [
    "excluded_values = {\"empty_event\", \"bounce\", \"net\"}\n",
    "empty_event_keys = {k: v for k, v in data.items() if v not in excluded_values}"
   ]
  },
  {
   "cell_type": "code",
   "execution_count": 7,
   "metadata": {},
   "outputs": [
    {
     "name": "stdout",
     "output_type": "stream",
     "text": [
      "{'58': 'left forehand lob', '2185': 'right forehand serve', '2245': 'left backhand loop', '2305': 'right forehand smash', '9226': 'right backhand serve', '9309': 'left backhand push', '10454': 'right backhand serve', '10519': 'left backhand loop', '12314': 'left forehand serve', '12397': 'right backhand push', '12508': 'left forehand smash', '12548': 'other', '12560': 'other', '14136': 'left forehand serve', '14220': 'right backhand flick', '14281': 'left forehand loop', '14327': 'right backhand loop', '14383': 'left backhand loop', '14460': 'right backhand loop', '14505': 'left backhand block', '14630': 'right backhand block', '14716': 'right backhand loop', '14797': 'left backhand block', '14897': 'right forehand loop', '14991': 'left forehand smash', '16374': 'right forehand serve', '16468': 'left forehand flick', '16530': 'right forehand smash', '16565': 'left forehand block', '16631': 'right backhand loop', '17423': 'other', '18263': 'right backhand serve', '18337': 'left backhand push', '18429': 'right backhand push', '18503': 'left forehand push', '18581': 'right backhand loop', '18757': 'right backhand smash', '18771': 'right backhand smash', '22492': 'left forehand serve', '22573': 'right forehand loop', '22620': 'left backhand flick', '24568': 'left forehand serve', '24659': 'right backhand loop', '24705': 'left backhand loop', '27694': 'left backhand serve', '27781': 'right backhand push', '27860': 'left backhand push', '27946': 'right forehand smash', '29568': 'left backhand serve', '29645': 'right backhand push', '29728': 'left backhand flick', '29741': 'left backhand flick', '30209': 'other', '31684': 'right forehand serve', '31767': 'left backhand loop', '31826': 'right backhand smash', '32551': 'other', '33366': 'right forehand serve', '33432': 'left backhand loop', '33492': 'right forehand smash', '33516': 'right forehand smash', '36339': 'left forehand serve', '36426': 'right backhand flick', '36526': 'right backhand loop', '37931': 'left forehand serve', '38014': 'right backhand push', '38121': 'left forehand loop', '38193': 'right forehand smash', '41709': 'right forehand serve', '41791': 'left backhand flick', '41857': 'right forehand smash', '42559': 'other', '44174': 'right forehand serve', '44259': 'left forehand flick', '44306': 'right backhand loop', '44349': 'left backhand loop', '45636': 'right backhand serve', '47094': 'left forehand serve', '49200': 'left forehand serve', '49295': 'right backhand push', '49383': 'left forehand push', '49448': 'right backhand push', '49538': 'left backhand push', '49608': 'right forehand smash', '49630': 'right forehand smash', '69134': 'other', '69221': 'right forehand loop', '69278': 'left forehand loop', '69330': 'right forehand loop', '69379': 'left forehand loop', '69425': 'right forehand loop', '69472': 'left forehand loop', '69519': 'right forehand loop', '69568': 'left forehand loop', '69617': 'right forehand loop', '69673': 'left forehand loop', '69730': 'right forehand loop', '69777': 'left forehand loop', '69834': 'right forehand loop', '69879': 'left forehand loop', '69938': 'right forehand loop', '69983': 'left forehand loop', '70043': 'right forehand loop', '70088': 'left forehand loop', '70157': 'right forehand loop', '70201': 'left forehand loop', '71165': 'right backhand serve', '71260': 'left forehand loop', '71335': 'right forehand loop', '71382': 'left forehand loop', '71452': 'right forehand loop', '71502': 'left forehand loop', '71570': 'right forehand loop', '71615': 'left forehand loop', '71682': 'right forehand loop', '71727': 'left forehand loop', '71794': 'right forehand loop', '71836': 'left forehand loop', '71903': 'right forehand loop', '71949': 'left forehand loop', '72010': 'right forehand loop', '72070': 'left forehand loop', '72132': 'right forehand loop', '72247': 'right forehand loop', '72365': 'right forehand loop', '72488': 'right forehand loop', '72606': 'right forehand loop', '72724': 'right forehand loop', '73291': 'right backhand serve', '73400': 'left forehand loop', '73453': 'right forehand loop', '73576': 'right forehand loop', '73689': 'right forehand loop', '73800': 'right forehand loop', '73910': 'right forehand loop', '75200': 'right backhand serve', '75276': 'left backhand loop', '75327': 'right backhand loop', '75375': 'left backhand flick', '75423': 'right backhand loop', '75469': 'left backhand flick', '75518': 'right backhand loop', '75564': 'left backhand flick', '75608': 'right backhand loop', '75653': 'left backhand flick', '75699': 'right backhand loop', '75745': 'left backhand flick', '75788': 'right backhand loop', '75840': 'left backhand flick', '77035': 'right backhand serve', '77105': 'left backhand flick', '77158': 'right backhand loop', '77200': 'left backhand loop', '77258': 'right backhand loop', '77302': 'left backhand loop', '77354': 'right backhand loop', '77397': 'left backhand loop', '77449': 'right backhand loop', '77495': 'left backhand loop', '77545': 'right backhand loop', '77595': 'left backhand loop', '77645': 'right backhand loop', '77689': 'left backhand loop', '77741': 'right backhand loop', '77790': 'left backhand loop', '77842': 'right backhand loop', '77887': 'left backhand loop', '77939': 'right backhand loop', '79054': 'left backhand serve', '79127': 'right backhand loop', '79199': 'left backhand loop', '79255': 'right backhand loop', '79323': 'left backhand loop'}\n"
     ]
    }
   ],
   "source": [
    "print(empty_event_keys)"
   ]
  },
  {
   "cell_type": "code",
   "execution_count": 8,
   "metadata": {},
   "outputs": [],
   "source": [
    "with open(\"empty_event_keys4.json\", \"w\") as file:\n",
    "    json.dump(empty_event_keys, file)"
   ]
  },
  {
   "cell_type": "code",
   "execution_count": null,
   "metadata": {},
   "outputs": [
    {
     "name": "stdout",
     "output_type": "stream",
     "text": [
      "{'58': 'empty_event', '181': 'empty_event', '2185': 'empty_event', '2245': 'empty_event', '2305': 'empty_event', '2335': 'empty_event', '9226': 'empty_event', '9309': 'empty_event', '9424': 'empty_event', '10454': 'empty_event', '10519': 'empty_event', '10552': 'empty_event', '12314': 'empty_event', '12397': 'empty_event', '12508': 'empty_event', '12548': 'empty_event', '12560': 'empty_event', '14136': 'empty_event', '14220': 'empty_event', '14281': 'empty_event', '14327': 'empty_event', '14383': 'empty_event', '14460': 'empty_event', '14505': 'empty_event', '14630': 'empty_event', '14716': 'empty_event', '14797': 'empty_event', '14897': 'empty_event', '14991': 'empty_event', '15033': 'empty_event', '16374': 'empty_event', '16468': 'empty_event', '16530': 'empty_event', '16565': 'empty_event', '16631': 'empty_event', '16738': 'empty_event', '17423': 'empty_event', '18263': 'empty_event', '18337': 'empty_event', '18429': 'empty_event', '18503': 'empty_event', '18581': 'empty_event', '18757': 'empty_event', '18771': 'empty_event', '22492': 'empty_event', '22573': 'empty_event', '22620': 'empty_event', '22646': 'empty_event', '23319': 'empty_event', '24568': 'empty_event', '24659': 'empty_event', '24705': 'empty_event', '24776': 'empty_event', '27694': 'empty_event', '27781': 'empty_event', '27860': 'empty_event', '27946': 'empty_event', '27987': 'empty_event', '29568': 'empty_event', '29645': 'empty_event', '29728': 'empty_event', '29741': 'empty_event', '30209': 'empty_event', '31684': 'empty_event', '31767': 'empty_event', '31826': 'empty_event', '31853': 'empty_event', '32551': 'empty_event', '33366': 'empty_event', '33432': 'empty_event', '33492': 'empty_event', '33516': 'empty_event', '36339': 'empty_event', '36426': 'empty_event', '36526': 'empty_event', '36569': 'empty_event', '37931': 'empty_event', '38014': 'empty_event', '38121': 'empty_event', '38193': 'empty_event', '41709': 'empty_event', '41791': 'empty_event', '41857': 'empty_event', '41902': 'empty_event', '42559': 'empty_event', '44174': 'empty_event', '44259': 'empty_event', '44306': 'empty_event', '44349': 'empty_event', '44409': 'empty_event', '45636': 'empty_event', '47094': 'empty_event', '47187': 'empty_event', '49200': 'empty_event', '49295': 'empty_event', '49383': 'empty_event', '49448': 'empty_event', '49538': 'empty_event', '49608': 'empty_event', '49630': 'empty_event', '69134': 'empty_event', '69221': 'empty_event', '69278': 'empty_event', '69330': 'empty_event', '69379': 'empty_event', '69425': 'empty_event', '69472': 'empty_event', '69519': 'empty_event', '69568': 'empty_event', '69617': 'empty_event', '69673': 'empty_event', '69730': 'empty_event', '69777': 'empty_event', '69834': 'empty_event', '69879': 'empty_event', '69938': 'empty_event', '69983': 'empty_event', '70043': 'empty_event', '70088': 'empty_event', '70157': 'empty_event', '70201': 'empty_event', '70250': 'empty_event', '71165': 'empty_event', '71260': 'empty_event', '71335': 'empty_event', '71375': 'empty_event', '71382': 'empty_event', '71452': 'empty_event', '71502': 'empty_event', '71570': 'empty_event', '71615': 'empty_event', '71682': 'empty_event', '71727': 'empty_event', '71794': 'empty_event', '71836': 'empty_event', '71903': 'empty_event', '71949': 'empty_event', '72010': 'empty_event', '72070': 'empty_event', '72132': 'empty_event', '72247': 'empty_event', '72365': 'empty_event', '72488': 'empty_event', '72606': 'empty_event', '72724': 'empty_event', '72769': 'empty_event', '73291': 'empty_event', '73400': 'empty_event', '73453': 'empty_event', '73576': 'empty_event', '73689': 'empty_event', '73800': 'empty_event', '73910': 'empty_event', '74025': 'empty_event', '75200': 'empty_event', '75276': 'empty_event', '75327': 'empty_event', '75375': 'empty_event', '75423': 'empty_event', '75469': 'empty_event', '75518': 'empty_event', '75564': 'empty_event', '75608': 'empty_event', '75653': 'empty_event', '75699': 'empty_event', '75745': 'empty_event', '75788': 'empty_event', '75840': 'empty_event', '75861': 'empty_event', '77035': 'empty_event', '77105': 'empty_event', '77158': 'empty_event', '77200': 'empty_event', '77258': 'empty_event', '77302': 'empty_event', '77354': 'empty_event', '77397': 'empty_event', '77449': 'empty_event', '77495': 'empty_event', '77545': 'empty_event', '77595': 'empty_event', '77645': 'empty_event', '77689': 'empty_event', '77741': 'empty_event', '77790': 'empty_event', '77842': 'empty_event', '77887': 'empty_event', '77939': 'empty_event', '77979': 'empty_event', '79054': 'empty_event', '79127': 'empty_event', '79199': 'empty_event', '79255': 'empty_event', '79323': 'empty_event', '79361': 'empty_event'}\n"
     ]
    }
   ],
   "source": [
    "with open(\"empty_event_keys4.json\", \"r\") as file:\n",
    "    loaded_keys = json.load(file)\n",
    "\n",
    "print(loaded_keys)  # Should print the same list of numbers\n"
   ]
  }
 ],
 "metadata": {
  "kernelspec": {
   "display_name": "racket",
   "language": "python",
   "name": "python3"
  },
  "language_info": {
   "codemirror_mode": {
    "name": "ipython",
    "version": 3
   },
   "file_extension": ".py",
   "mimetype": "text/x-python",
   "name": "python",
   "nbconvert_exporter": "python",
   "pygments_lexer": "ipython3",
   "version": "3.11.11"
  }
 },
 "nbformat": 4,
 "nbformat_minor": 2
}
