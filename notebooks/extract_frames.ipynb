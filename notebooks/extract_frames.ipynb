{
 "cells": [
  {
   "cell_type": "code",
   "execution_count": 4,
   "metadata": {},
   "outputs": [],
   "source": [
    "import json"
   ]
  },
  {
   "cell_type": "code",
   "execution_count": 5,
   "metadata": {},
   "outputs": [],
   "source": [
    "with open(\"../events_markup.json\", \"r\") as file:\n",
    "    data = json.load(file)"
   ]
  },
  {
   "cell_type": "code",
   "execution_count": 6,
   "metadata": {},
   "outputs": [],
   "source": [
    "excluded_values = {\"empty_event\", \"bounce\", \"net\"}\n",
    "empty_event_keys = {k: v for k, v in data.items() if v not in excluded_values}"
   ]
  },
  {
   "cell_type": "code",
   "execution_count": 7,
   "metadata": {},
   "outputs": [
    {
     "name": "stdout",
     "output_type": "stream",
     "text": [
      "{'58': 'left forehand lob', '2185': 'right forehand serve', '2245': 'left backhand loop', '2305': 'right forehand smash', '9226': 'right backhand serve', '9309': 'left backhand push', '10454': 'right backhand serve', '10519': 'left backhand loop', '12314': 'left forehand serve', '12397': 'right backhand push', '12508': 'left forehand smash', '12548': 'other', '12560': 'other', '14136': 'left forehand serve', '14220': 'right backhand flick', '14281': 'left forehand loop', '14327': 'right backhand loop', '14383': 'left backhand loop', '14460': 'right backhand loop', '14505': 'left backhand block', '14630': 'right backhand block', '14716': 'right backhand loop', '14797': 'left backhand block', '14897': 'right forehand loop', '14991': 'left forehand smash', '16374': 'right forehand serve', '16468': 'left forehand flick', '16530': 'right forehand smash', '16565': 'left forehand block', '16631': 'right backhand loop', '17423': 'other', '18263': 'right backhand serve', '18337': 'left backhand push', '18429': 'right backhand push', '18503': 'left forehand push', '18581': 'right backhand loop', '18757': 'right backhand smash', '18771': 'right backhand smash', '22492': 'left forehand serve', '22573': 'right forehand loop', '22620': 'left backhand flick', '24568': 'left forehand serve', '24659': 'right backhand loop', '24705': 'left backhand loop', '27694': 'left backhand serve', '27781': 'right backhand push', '27860': 'left backhand push', '27946': 'right forehand smash', '29568': 'left backhand serve', '29645': 'right backhand push', '29728': 'left backhand flick', '29741': 'left backhand flick', '30209': 'other', '31684': 'right forehand serve', '31767': 'left backhand loop', '31826': 'right backhand smash', '32551': 'other', '33366': 'right forehand serve', '33432': 'left backhand loop', '33492': 'right forehand smash', '33516': 'right forehand smash', '36339': 'left forehand serve', '36426': 'right backhand flick', '36526': 'right backhand loop', '37931': 'left forehand serve', '38014': 'right backhand push', '38121': 'left forehand loop', '38193': 'right forehand smash', '41709': 'right forehand serve', '41791': 'left backhand flick', '41857': 'right forehand smash', '42559': 'other', '44174': 'right forehand serve', '44259': 'left forehand flick', '44306': 'right backhand loop', '44349': 'left backhand loop', '45636': 'right backhand serve', '47094': 'left forehand serve', '49200': 'left forehand serve', '49295': 'right backhand push', '49383': 'left forehand push', '49448': 'right backhand push', '49538': 'left backhand push', '49608': 'right forehand smash', '49630': 'right forehand smash', '69134': 'other', '69221': 'right forehand loop', '69278': 'left forehand loop', '69330': 'right forehand loop', '69379': 'left forehand loop', '69425': 'right forehand loop', '69472': 'left forehand loop', '69519': 'right forehand loop', '69568': 'left forehand loop', '69617': 'right forehand loop', '69673': 'left forehand loop', '69730': 'right forehand loop', '69777': 'left forehand loop', '69834': 'right forehand loop', '69879': 'left forehand loop', '69938': 'right forehand loop', '69983': 'left forehand loop', '70043': 'right forehand loop', '70088': 'left forehand loop', '70157': 'right forehand loop', '70201': 'left forehand loop', '71165': 'right backhand serve', '71260': 'left forehand loop', '71335': 'right forehand loop', '71382': 'left forehand loop', '71452': 'right forehand loop', '71502': 'left forehand loop', '71570': 'right forehand loop', '71615': 'left forehand loop', '71682': 'right forehand loop', '71727': 'left forehand loop', '71794': 'right forehand loop', '71836': 'left forehand loop', '71903': 'right forehand loop', '71949': 'left forehand loop', '72010': 'right forehand loop', '72070': 'left forehand loop', '72132': 'right forehand loop', '72247': 'right forehand loop', '72365': 'right forehand loop', '72488': 'right forehand loop', '72606': 'right forehand loop', '72724': 'right forehand loop', '73291': 'right backhand serve', '73400': 'left forehand loop', '73453': 'right forehand loop', '73576': 'right forehand loop', '73689': 'right forehand loop', '73800': 'right forehand loop', '73910': 'right forehand loop', '75200': 'right backhand serve', '75276': 'left backhand loop', '75327': 'right backhand loop', '75375': 'left backhand flick', '75423': 'right backhand loop', '75469': 'left backhand flick', '75518': 'right backhand loop', '75564': 'left backhand flick', '75608': 'right backhand loop', '75653': 'left backhand flick', '75699': 'right backhand loop', '75745': 'left backhand flick', '75788': 'right backhand loop', '75840': 'left backhand flick', '77035': 'right backhand serve', '77105': 'left backhand flick', '77158': 'right backhand loop', '77200': 'left backhand loop', '77258': 'right backhand loop', '77302': 'left backhand loop', '77354': 'right backhand loop', '77397': 'left backhand loop', '77449': 'right backhand loop', '77495': 'left backhand loop', '77545': 'right backhand loop', '77595': 'left backhand loop', '77645': 'right backhand loop', '77689': 'left backhand loop', '77741': 'right backhand loop', '77790': 'left backhand loop', '77842': 'right backhand loop', '77887': 'left backhand loop', '77939': 'right backhand loop', '79054': 'left backhand serve', '79127': 'right backhand loop', '79199': 'left backhand loop', '79255': 'right backhand loop', '79323': 'left backhand loop'}\n"
     ]
    }
   ],
   "source": [
    "print(empty_event_keys)"
   ]
  },
  {
   "cell_type": "code",
   "execution_count": null,
   "metadata": {},
   "outputs": [],
   "source": [
    "with open(\"empty_event_keys.json\", \"w\") as file:\n",
    "    json.dump(empty_event_keys, file)"
   ]
  },
  {
   "cell_type": "code",
   "execution_count": null,
   "metadata": {},
   "outputs": [
    {
     "name": "stdout",
     "output_type": "stream",
     "text": [
      "{'58': 'left forehand lob', '2185': 'right forehand serve', '2245': 'left backhand loop', '2305': 'right forehand smash', '9226': 'right backhand serve', '9309': 'left backhand push', '10454': 'right backhand serve', '10519': 'left backhand loop', '12314': 'left forehand serve', '12397': 'right backhand push', '12508': 'left forehand smash', '12548': 'other', '12560': 'other', '14136': 'left forehand serve', '14220': 'right backhand flick', '14281': 'left forehand loop', '14327': 'right backhand loop', '14383': 'left backhand loop', '14460': 'right backhand loop', '14505': 'left backhand block', '14630': 'right backhand block', '14716': 'right backhand loop', '14797': 'left backhand block', '14897': 'right forehand loop', '14991': 'left forehand smash', '16374': 'right forehand serve', '16468': 'left forehand flick', '16530': 'right forehand smash', '16565': 'left forehand block', '16631': 'right backhand loop', '17423': 'other', '18263': 'right backhand serve', '18337': 'left backhand push', '18429': 'right backhand push', '18503': 'left forehand push', '18581': 'right backhand loop', '18757': 'right backhand smash', '18771': 'right backhand smash', '22492': 'left forehand serve', '22573': 'right forehand loop', '22620': 'left backhand flick', '24568': 'left forehand serve', '24659': 'right backhand loop', '24705': 'left backhand loop', '27694': 'left backhand serve', '27781': 'right backhand push', '27860': 'left backhand push', '27946': 'right forehand smash', '29568': 'left backhand serve', '29645': 'right backhand push', '29728': 'left backhand flick', '29741': 'left backhand flick', '30209': 'other', '31684': 'right forehand serve', '31767': 'left backhand loop', '31826': 'right backhand smash', '32551': 'other', '33366': 'right forehand serve', '33432': 'left backhand loop', '33492': 'right forehand smash', '33516': 'right forehand smash', '36339': 'left forehand serve', '36426': 'right backhand flick', '36526': 'right backhand loop', '37931': 'left forehand serve', '38014': 'right backhand push', '38121': 'left forehand loop', '38193': 'right forehand smash', '41709': 'right forehand serve', '41791': 'left backhand flick', '41857': 'right forehand smash', '42559': 'other', '44174': 'right forehand serve', '44259': 'left forehand flick', '44306': 'right backhand loop', '44349': 'left backhand loop', '45636': 'right backhand serve', '47094': 'left forehand serve', '49200': 'left forehand serve', '49295': 'right backhand push', '49383': 'left forehand push', '49448': 'right backhand push', '49538': 'left backhand push', '49608': 'right forehand smash', '49630': 'right forehand smash', '69134': 'other', '69221': 'right forehand loop', '69278': 'left forehand loop', '69330': 'right forehand loop', '69379': 'left forehand loop', '69425': 'right forehand loop', '69472': 'left forehand loop', '69519': 'right forehand loop', '69568': 'left forehand loop', '69617': 'right forehand loop', '69673': 'left forehand loop', '69730': 'right forehand loop', '69777': 'left forehand loop', '69834': 'right forehand loop', '69879': 'left forehand loop', '69938': 'right forehand loop', '69983': 'left forehand loop', '70043': 'right forehand loop', '70088': 'left forehand loop', '70157': 'right forehand loop', '70201': 'left forehand loop', '71165': 'right backhand serve', '71260': 'left forehand loop', '71335': 'right forehand loop', '71382': 'left forehand loop', '71452': 'right forehand loop', '71502': 'left forehand loop', '71570': 'right forehand loop', '71615': 'left forehand loop', '71682': 'right forehand loop', '71727': 'left forehand loop', '71794': 'right forehand loop', '71836': 'left forehand loop', '71903': 'right forehand loop', '71949': 'left forehand loop', '72010': 'right forehand loop', '72070': 'left forehand loop', '72132': 'right forehand loop', '72247': 'right forehand loop', '72365': 'right forehand loop', '72488': 'right forehand loop', '72606': 'right forehand loop', '72724': 'right forehand loop', '73291': 'right backhand serve', '73400': 'left forehand loop', '73453': 'right forehand loop', '73576': 'right forehand loop', '73689': 'right forehand loop', '73800': 'right forehand loop', '73910': 'right forehand loop', '75200': 'right backhand serve', '75276': 'left backhand loop', '75327': 'right backhand loop', '75375': 'left backhand flick', '75423': 'right backhand loop', '75469': 'left backhand flick', '75518': 'right backhand loop', '75564': 'left backhand flick', '75608': 'right backhand loop', '75653': 'left backhand flick', '75699': 'right backhand loop', '75745': 'left backhand flick', '75788': 'right backhand loop', '75840': 'left backhand flick', '77035': 'right backhand serve', '77105': 'left backhand flick', '77158': 'right backhand loop', '77200': 'left backhand loop', '77258': 'right backhand loop', '77302': 'left backhand loop', '77354': 'right backhand loop', '77397': 'left backhand loop', '77449': 'right backhand loop', '77495': 'left backhand loop', '77545': 'right backhand loop', '77595': 'left backhand loop', '77645': 'right backhand loop', '77689': 'left backhand loop', '77741': 'right backhand loop', '77790': 'left backhand loop', '77842': 'right backhand loop', '77887': 'left backhand loop', '77939': 'right backhand loop', '79054': 'left backhand serve', '79127': 'right backhand loop', '79199': 'left backhand loop', '79255': 'right backhand loop', '79323': 'left backhand loop'}\n"
     ]
    }
   ],
   "source": [
    "with open(\"empty_event_keys.json\", \"r\") as file:\n",
    "    loaded_keys = json.load(file)\n",
    "\n",
    "print(loaded_keys)  # Should print the same list of numbers\n"
   ]
  }
 ],
 "metadata": {
  "kernelspec": {
   "display_name": "racket",
   "language": "python",
   "name": "python3"
  },
  "language_info": {
   "codemirror_mode": {
    "name": "ipython",
    "version": 3
   },
   "file_extension": ".py",
   "mimetype": "text/x-python",
   "name": "python",
   "nbconvert_exporter": "python",
   "pygments_lexer": "ipython3",
   "version": "3.11.11"
  }
 },
 "nbformat": 4,
 "nbformat_minor": 2
}
